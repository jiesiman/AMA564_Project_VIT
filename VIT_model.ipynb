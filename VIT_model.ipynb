{
  "nbformat": 4,
  "nbformat_minor": 0,
  "metadata": {
    "colab": {
      "provenance": [],
      "gpuType": "T4"
    },
    "kernelspec": {
      "name": "python3",
      "display_name": "Python 3"
    },
    "language_info": {
      "name": "python"
    },
    "accelerator": "GPU"
  },
  "cells": [
    {
      "cell_type": "markdown",
      "source": [
        "导入包，固定随机数种子"
      ],
      "metadata": {
        "id": "S1jbICGErEtW"
      }
    },
    {
      "cell_type": "code",
      "execution_count": null,
      "metadata": {
        "id": "PDgtjurWloF0"
      },
      "outputs": [],
      "source": [
        "import os\n",
        "import random\n",
        "from collections import defaultdict\n",
        "import timm\n",
        "import torch\n",
        "import torch.nn as nn\n",
        "import torch.nn.functional as F  # 关键导入语句\n",
        "from PIL import Image\n",
        "from sklearn.model_selection import train_test_split\n",
        "from torch.utils.data import Dataset, DataLoader, WeightedRandomSampler\n",
        "from torch.utils.tensorboard import SummaryWriter\n",
        "from torchvision import transforms\n",
        "from sklearn.metrics import confusion_matrix, classification_report, precision_recall_curve, average_precision_score\n",
        "import matplotlib.pyplot as plt\n",
        "import seaborn as sns\n",
        "from timm.models.vision_transformer import VisionTransformer\n",
        "import numpy as np\n",
        "from tqdm import tqdm\n",
        "import time\n",
        "import preprocess\n",
        "\n",
        "random.seed(456)"
      ]
    },
    {
      "cell_type": "markdown",
      "source": [
        "定义数据集类与多任务loss函数"
      ],
      "metadata": {
        "id": "YgvGCYX2rJls"
      }
    },
    {
      "cell_type": "code",
      "source": [
        "class UTKFaceDataset(Dataset):\n",
        "    def __init__(self, dataframe, transform=None, max_age=116):\n",
        "        self.dataframe = dataframe\n",
        "        self.transform = transform\n",
        "        self.max_age = max_age  # 使用preprocess中计算的最大年龄\n",
        "\n",
        "    def __len__(self):\n",
        "        return len(self.dataframe)\n",
        "\n",
        "    def __getitem__(self, idx):\n",
        "        row = self.dataframe.iloc[idx]\n",
        "        # 从DataFrame获取像素数组并转换为图像\n",
        "        img_array = row['pixels']\n",
        "        image = Image.fromarray(img_array.astype('uint8'), 'RGB')\n",
        "        # 应用数据增强和转换\n",
        "        if self.transform:\n",
        "            image = self.transform(image)\n",
        "        age = row['age'] / self.max_age  # 年龄归一化\n",
        "        gender = row['gender']\n",
        "        return image, {\n",
        "            'age': torch.tensor(age, dtype=torch.float32),\n",
        "            'gender': torch.tensor(gender, dtype=torch.long)\n",
        "        }\n",
        "\n",
        "\n",
        "class MultiTaskViT(nn.Module):\n",
        "    def __init__(self, img_size=224, patch_size=16, embed_dim=768, depth=12, num_heads=12):\n",
        "        super().__init__()\n",
        "        # 初始化官方ViT主干（无预训练分类头）\n",
        "        self.vit = VisionTransformer(\n",
        "            img_size=img_size,\n",
        "            patch_size=patch_size,\n",
        "            in_chans=3,\n",
        "            num_classes=0,  # 关键：禁用原分类头\n",
        "            embed_dim=embed_dim,\n",
        "            depth=depth,\n",
        "            num_heads=num_heads,\n",
        "            mlp_ratio=4.0,\n",
        "            qkv_bias=True\n",
        "        )\n",
        "        # 不确定性参数\n",
        "        self.log_var_age = nn.Parameter(torch.tensor(0.0, requires_grad=True))\n",
        "        self.log_var_gender = nn.Parameter(torch.tensor(0.0, requires_grad=True))\n",
        "        # 多任务头部\n",
        "        self.age_head = nn.Linear(embed_dim, 1)  # 年龄回归头\n",
        "        self.gender_head = nn.Linear(embed_dim, 2)  # 性别分类头\n",
        "\n",
        "    def forward_features(self, x):\n",
        "        # 直接调用ViT的前向特征提取方法\n",
        "        x = self.vit.patch_embed(x)\n",
        "        cls_token = self.vit.cls_token.expand(x.shape[0], -1, -1)\n",
        "        x = torch.cat((cls_token, x), dim=1)\n",
        "        x = self.vit.pos_drop(x + self.vit.pos_embed)\n",
        "        x = self.vit.blocks(x)\n",
        "        x = self.vit.norm(x)\n",
        "        return x[:, 0]  # 返回CLS token的特征\n",
        "\n",
        "    def forward(self, x):\n",
        "        features = self.forward_features(x)\n",
        "        return {\n",
        "            'age': self.age_head(features).squeeze(),\n",
        "            'gender': self.gender_head(features)\n",
        "        }\n"
      ],
      "metadata": {
        "id": "efpGvxcPm16a"
      },
      "execution_count": null,
      "outputs": []
    },
    {
      "cell_type": "code",
      "source": [
        "def multi_task_loss(outputs, labels, model):\n",
        "    # 可学习的不确定性参数\n",
        "    log_var_age = torch.log(torch.tensor(1.0, requires_grad=True))\n",
        "    log_var_gender = torch.log(torch.tensor(1.0, requires_grad=True))\n",
        "\n",
        "    age_loss = 0.5 * torch.exp(-log_var_age) * F.l1_loss(outputs['age'], labels['age']) + 0.5 * model.log_var_age\n",
        "    gender_loss = 0.5 * torch.exp(-log_var_gender) * F.cross_entropy(outputs['gender'],labels['gender']) + 0.5 * model.log_var_gender\n",
        "\n",
        "    return age_loss + gender_loss, {'age': age_loss, 'gender': gender_loss}"
      ],
      "metadata": {
        "id": "-mbv8QItrR8t"
      },
      "execution_count": null,
      "outputs": []
    },
    {
      "cell_type": "markdown",
      "source": [
        "训练函数"
      ],
      "metadata": {
        "id": "86H7qO5srMRt"
      }
    },
    {
      "cell_type": "code",
      "source": [
        "def train(model, num_epochs, device, train_loader, val_loader, criterion, optimizer, scheduler):\n",
        "    print(\"开始训练\")\n",
        "    writer = SummaryWriter()  # 记录训练过程\n",
        "    scaler = torch.cuda.amp.GradScaler()  # gpu加速用的\n",
        "    start_time = time.time()  # 开始计时\n",
        "    for epoch in tqdm(range(num_epochs)):\n",
        "        # 训练阶段\n",
        "        model.train()\n",
        "        train_loss = 0.0\n",
        "        for images, labels in train_loader:\n",
        "            images = images.to(device)\n",
        "            age_labels = labels['age'].to(device)\n",
        "            gender_labels = labels['gender'].to(device)\n",
        "\n",
        "            optimizer.zero_grad()\n",
        "            # 常规版本\n",
        "            # outputs = model(images).squeeze()\n",
        "            # loss = criterion(outputs, ages)\n",
        "            # loss.backward()\n",
        "            # optimizer.step()\n",
        "            with torch.cuda.amp.autocast():\n",
        "                outputs = model(images)\n",
        "                total_loss, loss_dict = criterion(outputs, {\n",
        "                    'age': age_labels,\n",
        "                    'gender': gender_labels\n",
        "                }, model)\n",
        "            scaler.scale(total_loss).backward()\n",
        "            torch.nn.utils.clip_grad_norm_(model.parameters(), max_norm=4)  # 梯度裁剪\n",
        "            scaler.step(optimizer)\n",
        "            scaler.update()\n",
        "            train_loss += total_loss.item() * images.size(0)\n",
        "        train_loss /= len(train_loader.dataset)\n",
        "        writer.add_scalar('Loss/Train/Age', loss_dict['age'], epoch)\n",
        "        writer.add_scalar('Loss/Train/Gender', loss_dict['gender'], epoch)\n",
        "\n",
        "        # 验证阶段\n",
        "        # 用到的一些变量初始化\n",
        "        val_age_mae = 0\n",
        "        val_gender_correct = 0.0\n",
        "        val_gender_total = 0.0\n",
        "        all_val_gender_probs = []\n",
        "        all_val_gender_labels = []\n",
        "        # 早停counter\n",
        "        age_counter = 0\n",
        "        gender_counter = 0\n",
        "\n",
        "        model.eval()\n",
        "        with torch.no_grad():\n",
        "            for images, labels in val_loader:\n",
        "                images = images.to(device)\n",
        "                age_labels = labels['age'].to(device) * max_age\n",
        "                gender_labels = labels['gender'].to(device)\n",
        "\n",
        "                outputs = model(images)\n",
        "                pred_ages = outputs['age'] * max_age\n",
        "                pred_genders = outputs['gender'].argmax(dim=1)\n",
        "                gender_probs = F.softmax(outputs['gender'], dim=1)\n",
        "\n",
        "                val_age_mae += F.l1_loss(pred_ages, age_labels, reduction='sum').item()\n",
        "                val_gender_correct += (pred_genders == gender_labels).sum().item()\n",
        "                val_gender_total += gender_labels.size(0)\n",
        "\n",
        "                all_val_gender_probs.extend(gender_probs[:, 1].cpu().numpy())\n",
        "                all_val_gender_labels.extend(gender_labels.cpu().numpy())\n",
        "\n",
        "        val_age_mae /= len(val_loader.dataset)\n",
        "        val_gender_acc = val_gender_correct / val_gender_total\n",
        "\n",
        "        print(f'Epoch {epoch + 1}: '\n",
        "              f'Train Loss {train_loss:.4f}, '\n",
        "              f'Val Age MAE {val_age_mae:.2f}, '\n",
        "              f'Val Gender Acc {val_gender_acc:.2%}')\n",
        "\n",
        "        # 计算验证集性别分类指标\n",
        "        val_gender_preds = (np.array(all_val_gender_probs) > 0.5).astype(int)\n",
        "        print(\"\\nValidation Gender Classification Report:\")\n",
        "        print(classification_report(all_val_gender_labels, val_gender_preds, target_names=['Male', 'Female']))\n",
        "\n",
        "        # 绘制验证集混淆矩阵\n",
        "        plt.figure(figsize=(8, 6))\n",
        "        cm = confusion_matrix(all_val_gender_labels, val_gender_preds)\n",
        "        sns.heatmap(cm, annot=True, fmt='d', cmap='Blues', xticklabels=['Male', 'Female'],\n",
        "                    yticklabels=['Male', 'Female'])\n",
        "        plt.xlabel('Predicted')\n",
        "        plt.ylabel('True')\n",
        "        plt.title('Validation Confusion Matrix')\n",
        "        plt.savefig('val_confusion_matrix.png')\n",
        "        plt.close()\n",
        "        # 学习率调整与早停\n",
        "        # 策略1：基于年龄准确率的早停\n",
        "        if val_age_mae < best_val_age_mae:\n",
        "            best_val_age_mae = val_age_mae\n",
        "            # torch.save(model.state_dict(), 'best_age_model.pth')\n",
        "            age_counter = 0\n",
        "        else:\n",
        "            age_counter += 1\n",
        "\n",
        "        # 策略2：基于性别准确率的早停\n",
        "        if val_gender_acc > best_val_gender_acc:\n",
        "            best_val_gender_acc = val_gender_acc\n",
        "            # torch.save(model.state_dict(), 'best_gender_model.pth')\n",
        "            gender_counter = 0\n",
        "        else:\n",
        "            gender_counter += 1\n",
        "\n",
        "        # 综合早停（任务连续5次未改善则停止）\n",
        "        if age_counter >= 5 and gender_counter >= 5:\n",
        "            torch.save(model.state_dict(), 'best_integrate_model.pth')\n",
        "            print(\"Early stopping triggered\")\n",
        "            break\n",
        "\n",
        "        # 学习率调整（可针对特定任务，如果是gender表现太差可以）\n",
        "        scheduler.step()\n",
        "\n",
        "    cost_time = time.time() - start_time\n",
        "    print(f'训练总耗时{cost_time:.4f}')"
      ],
      "metadata": {
        "id": "QXd3Ndt-nA4y"
      },
      "execution_count": null,
      "outputs": []
    },
    {
      "cell_type": "code",
      "source": [
        "'''性别的评估函数'''"
      ],
      "metadata": {
        "id": "EhEIJtItrVws"
      },
      "execution_count": null,
      "outputs": []
    },
    {
      "cell_type": "code",
      "source": [
        "# 混淆矩阵\n",
        "def plot_confusion_matrix(true_labels, pred_labels, classes=['Male', 'Female']):\n",
        "    cm = confusion_matrix(true_labels, pred_labels)\n",
        "    plt.figure(figsize=(8, 6))\n",
        "    sns.heatmap(cm, annot=True, fmt='d', cmap='Blues', xticklabels=classes, yticklabels=classes)\n",
        "    plt.xlabel('Predicted')\n",
        "    plt.ylabel('True')\n",
        "    plt.title('Confusion Matrix')\n",
        "    plt.savefig('confusion_matrix.png')\n",
        "    plt.close()\n",
        "\n",
        "\n",
        "# 算mPA\n",
        "def compute_mPA(true_labels, pred_probs, threshold=0.5):\n",
        "    pred_labels = (pred_probs > threshold).astype(int)\n",
        "    report = classification_report(true_labels, pred_labels, target_names=['Male', 'Female'], output_dict=True)\n",
        "    mPA = (report['Male']['precision'] + report['Female']['precision']) / 2\n",
        "    print(f'mPA (Mean Precision per Class): {mPA:.4f}')\n",
        "\n",
        "\n",
        "# F1曲线\n",
        "def plot_f1_confidence_curve(true_labels, pred_probs):\n",
        "    thresholds = np.linspace(0, 1, 100)\n",
        "    f1_scores = []\n",
        "\n",
        "    for thresh in thresholds:\n",
        "        pred_labels = (pred_probs > thresh).astype(int)\n",
        "        report = classification_report(true_labels, pred_labels, target_names=['Male', 'Female'], output_dict=True)\n",
        "        f1 = report['macro avg']['f1-score']  # 使用宏平均F1\n",
        "        f1_scores.append(f1)\n",
        "\n",
        "    plt.figure(figsize=(10, 6))\n",
        "    plt.plot(thresholds, f1_scores, label='F1 Score')\n",
        "    plt.xlabel('Confidence Threshold')\n",
        "    plt.ylabel('Macro F1 Score')\n",
        "    plt.title('F1-Confidence Curve')\n",
        "    plt.legend()\n",
        "    plt.grid(True)\n",
        "    plt.savefig('f1_confidence_curve.png')\n",
        "    plt.close()\n"
      ],
      "metadata": {
        "id": "GoIxbrCRnBBp"
      },
      "execution_count": null,
      "outputs": []
    },
    {
      "cell_type": "code",
      "source": [
        "'''年龄的会使用到的评估函数'''"
      ],
      "metadata": {
        "id": "42_8vSVwrZ_l"
      },
      "execution_count": null,
      "outputs": []
    },
    {
      "cell_type": "code",
      "source": [
        "def plot_age_confusion_matrix(true_groups, pred_groups, age_bins):\n",
        "    cm = confusion_matrix(true_groups, pred_groups)\n",
        "    plt.figure(figsize=(12, 10))\n",
        "    sns.heatmap(cm, annot=True, fmt='d', cmap='Blues',\n",
        "                xticklabels=[f\"{age_bins[i]}-{age_bins[i + 1]}\" for i in range(len(age_bins) - 1)],\n",
        "                yticklabels=[f\"{age_bins[i]}-{age_bins[i + 1]}\" for i in range(len(age_bins) - 1)])\n",
        "    plt.xlabel('Predicted Age Group')\n",
        "    plt.ylabel('True Age Group')\n",
        "    plt.title('Age Group Confusion Matrix')\n",
        "    plt.savefig('age_confusion_matrix.png')\n",
        "    plt.close()\n",
        "\n",
        "\n",
        "def compute_age_mPA(true_groups, pred_groups):\n",
        "    report = classification_report(true_groups, pred_groups, output_dict=True)\n",
        "    class_precisions = [report[str(i)]['precision'] for i in range(len(np.unique(true_groups))) if str(i) in report]\n",
        "    mPA = np.mean(class_precisions)\n",
        "    print(f\"Age mPA (Mean Precision per Age Group): {mPA:.4f}\")\n",
        "\n",
        "\n",
        "def plot_age_f1_confidence_curve(true_ages, pred_ages, max_error_threshold=20):\n",
        "    error_thresholds = np.arange(0, max_error_threshold + 1, 1)\n",
        "    f1_scores = []\n",
        "\n",
        "    for thresh in error_thresholds:\n",
        "        correct = np.abs(np.array(true_ages) - np.array(pred_ages)) <= thresh\n",
        "        precision = np.sum(correct) / len(correct)  # 简化的“精确率”\n",
        "        recall = np.sum(correct) / len(correct)  # 简化的“召回率”\n",
        "        f1 = 2 * (precision * recall) / (precision + recall) if (precision + recall) > 0 else 0\n",
        "        f1_scores.append(f1)\n",
        "\n",
        "    plt.figure(figsize=(10, 6))\n",
        "    plt.plot(error_thresholds, f1_scores, label='F1 Score')\n",
        "    plt.xlabel('Allowed Age Prediction Error (years)')\n",
        "    plt.ylabel('F1 Score')\n",
        "    plt.title('Age Prediction F1-Confidence Curve')\n",
        "    plt.legend()\n",
        "    plt.grid(True)\n",
        "    plt.savefig('age_f1_confidence_curve.png')\n",
        "    plt.close()\n"
      ],
      "metadata": {
        "id": "KIbYeZ6EnBG6"
      },
      "execution_count": null,
      "outputs": []
    },
    {
      "cell_type": "code",
      "source": [
        "集成后的测试函数"
      ],
      "metadata": {
        "id": "pCPsTQoXrcm8"
      },
      "execution_count": null,
      "outputs": []
    },
    {
      "cell_type": "code",
      "source": [
        "def model_test(model, device, test_loader, max_age):\n",
        "    # 加载最佳模型并测试\n",
        "    model.eval()\n",
        "    # age_mae, age_mse = 0.0, 0.0\n",
        "    age_errors = []\n",
        "    all_true_ages = []\n",
        "    all_pred_ages = []\n",
        "    all_gender_probs = []  # 保存预测概率\n",
        "    all_gender_labels = []  # 保存真实标签\n",
        "\n",
        "    with torch.no_grad():\n",
        "        for images, labels in test_loader:  # 使用验证集作为测试\n",
        "            images = images.to(device)\n",
        "            age_labels = labels['age'].to(device) * max_age\n",
        "            gender_labels = labels['gender'].to(device)\n",
        "\n",
        "            outputs = model(images) # 反归一化\n",
        "            pred_ages = outputs['age'] * max_age\n",
        "            gender_logits = outputs['gender']\n",
        "\n",
        "            # 计算年龄指标\n",
        "            # age_mae += F.l1_loss(pred_ages, age_labels, reduction='sum').item()\n",
        "            # age_mse += F.mse_loss(pred_ages, age_labels, reduction='sum').item()\n",
        "            all_true_ages.extend(age_labels.cpu().numpy())\n",
        "            all_pred_ages.extend(pred_ages.cpu().numpy())\n",
        "\n",
        "            # 计算性别准确率\n",
        "            gender_probs = F.softmax(gender_logits, dim=1).cpu().numpy()\n",
        "            all_gender_probs.extend(gender_probs[:, 1])  # 取正类概率\n",
        "            all_gender_labels.extend(gender_labels.cpu().numpy())\n",
        "\n",
        "        # 转换为NumPy数组\n",
        "        all_true_ages = np.array(all_true_ages)\n",
        "        all_pred_ages = np.array(all_pred_ages)\n",
        "        all_gender_probs = np.array(all_gender_probs)\n",
        "        all_gender_labels = np.array(all_gender_labels)\n",
        "\n",
        "        # ================== 年龄评估 ==================\n",
        "        print(\"\\n==== Age Evaluation ====\")\n",
        "        # 1. 将年龄分箱（每10岁一组）\n",
        "        age_bins = np.arange(0, max_age + 1, 10)\n",
        "        age_bins[-1] = max_age\n",
        "        true_age_groups = np.digitize(all_true_ages, bins=age_bins) - 1  # 0-based索引\n",
        "        pred_age_groups = np.digitize(all_pred_ages, bins=age_bins) - 1\n",
        "        # 2. 生成年龄组的混淆矩阵\n",
        "        plot_age_confusion_matrix(true_age_groups, pred_age_groups, age_bins)\n",
        "        # 3. 计算年龄组的mPA（平均精确率）\n",
        "        compute_age_mPA(true_age_groups, pred_age_groups)\n",
        "        # 4. 生成年龄预测的F1-置信度曲线（基于误差范围）\n",
        "        plot_age_f1_confidence_curve(all_true_ages, all_pred_ages, max_error_threshold=20)\n",
        "\n",
        "        #  ================== 性别评估 ==================\n",
        "        plot_confusion_matrix(all_gender_labels, (all_gender_probs > 0.5).astype(int))\n",
        "        compute_mPA(all_gender_labels, all_gender_probs)\n",
        "        plot_f1_confidence_curve(all_gender_labels, all_gender_probs)"
      ],
      "metadata": {
        "id": "WM8kSThFnBMR"
      },
      "execution_count": null,
      "outputs": []
    },
    {
      "cell_type": "code",
      "source": [
        "初始化数据"
      ],
      "metadata": {
        "id": "0AjYUWuxrlQ-"
      },
      "execution_count": null,
      "outputs": []
    },
    {
      "cell_type": "code",
      "source": [
        "\n",
        "data_dir = os.path.join('./UTKFace')\n",
        "max_age = 116\n",
        "df = preprocess.load_data_to_dataframe(data_dir)\n",
        "# 分层划分\n",
        "df['age_group'] = df['age'] // 10\n",
        "stratify_col = df['age_group']\n",
        "# 训练：验证：测试 = 8：1：1，可以改\n",
        "train_df, temp_df = train_test_split(df, test_size=0.2, random_state=456, stratify=stratify_col)\n",
        "# 样本权重计算\n",
        "age_groups = train_df['age_group'].values\n",
        "class_counts = np.bincount(age_groups)\n",
        "class_weights = 1. / class_counts\n",
        "sample_weights = class_weights[age_groups]\n",
        "# 动态权重取样\n",
        "sampler = WeightedRandomSampler(weights=sample_weights, num_samples=len(train_df), replacement=True)\n",
        "\n",
        "# 验证与测试样本划分\n",
        "stratify_temp = temp_df['age_group']\n",
        "val_df, test_df = train_test_split(temp_df, test_size=0.5, random_state=456, stratify=stratify_temp)\n",
        "# 创建DataLoader，够memory的话可以把batch_size提大点\n",
        "batch_size = 8\n",
        "# 数据预处理流程\n",
        "train_transform = transforms.Compose([\n",
        "  transforms.ToTensor(),\n",
        "  transforms.Normalize(mean=[0.485, 0.456, 0.406], std=[0.229, 0.224, 0.225])\n",
        "])\n",
        "val_transform = transforms.Compose([\n",
        "  transforms.ToTensor(),\n",
        "  transforms.Normalize(mean=[0.485, 0.456, 0.406], std=[0.229, 0.224, 0.225])\n",
        "])\n",
        "test_transform = transforms.Compose([\n",
        "  transforms.ToTensor(),\n",
        "  transforms.Normalize(mean=[0.485, 0.456, 0.406], std=[0.229, 0.224, 0.225])\n",
        "])\n",
        "\n",
        "# 创建数据集实例\n",
        "train_dataset = UTKFaceDataset(train_df, transform=train_transform)\n",
        "val_dataset = UTKFaceDataset(val_df, transform=val_transform)\n",
        "test_dataset = UTKFaceDataset(test_df, transform=test_transform)\n",
        "print('已完成数据处理')\n",
        "train_loader = DataLoader(train_dataset, batch_size=batch_size, sampler=sampler)  # 动态加权采样\n",
        "val_loader = DataLoader(val_dataset, batch_size=batch_size, shuffle=False)\n",
        "test_loader = DataLoader(test_dataset, batch_size=batch_size, shuffle=False)\n"
      ],
      "metadata": {
        "id": "i1Jd0I76nBJp"
      },
      "execution_count": null,
      "outputs": []
    },
    {
      "cell_type": "markdown",
      "source": [
        "初始化模型并训练"
      ],
      "metadata": {
        "id": "J2akJ7ikrnKU"
      }
    },
    {
      "cell_type": "code",
      "source": [
        "# 初始化ViT模型\n",
        "model = MultiTaskViT(\n",
        "  img_size=224,\n",
        "  patch_size=16,\n",
        "  embed_dim=768,  # DeiT-Tiny的默认嵌入维度\n",
        "  depth=12,  # Transformer层数\n",
        "  num_heads=3  # 注意力头数（DeiT-Tiny为3）\n",
        ")\n",
        "# model.load_state_dict(torch.load(\"./pytorch_model.bin\"), strict=False)  # 预训练权重\n",
        "print('模型初始化完成')\n",
        "\n",
        "# 训练循环\n",
        "num_epochs = 25\n",
        "\n",
        "# 训练配置\n",
        "device = torch.device('cuda' if torch.cuda.is_available() else 'cpu')  # 设备\n",
        "model.to(device)  # model装载\n",
        "criterion = multi_task_loss  # 自定义loss函数\n",
        "optimizer = torch.optim.AdamW(model.parameters(), lr=1e-4, weight_decay=0.01)  # 优化器\n",
        "scheduler = torch.optim.lr_scheduler.CosineAnnealingLR(optimizer, T_max=num_epochs, eta_min=1e-6)  # 学习率自适应\n",
        "\n",
        "train(model, num_epochs, device, train_loader, val_loader, criterion, optimizer, scheduler)"
      ],
      "metadata": {
        "id": "lLPKSlmInBO6"
      },
      "execution_count": null,
      "outputs": []
    },
    {
      "cell_type": "markdown",
      "source": [
        "测试"
      ],
      "metadata": {
        "id": "x2PNQfCirrF8"
      }
    },
    {
      "cell_type": "code",
      "source": [
        "model.load_state_dict(torch.load('best_integrate_model.pth'))\n",
        "model_test(model, device, test_loader, max_age)"
      ],
      "metadata": {
        "id": "vBafVPthrCEW"
      },
      "execution_count": null,
      "outputs": []
    }
  ]
}